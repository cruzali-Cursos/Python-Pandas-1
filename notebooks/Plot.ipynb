{
 "cells": [
  {
   "cell_type": "code",
   "execution_count": null,
   "id": "f7cfcd49-6e23-4d39-b08d-060d053d32c7",
   "metadata": {},
   "outputs": [],
   "source": [
    "!pip install matplotlib"
   ]
  },
  {
   "cell_type": "code",
   "execution_count": 22,
   "id": "db61f24f-e982-4c0b-ae68-20c3fc0f8e9a",
   "metadata": {},
   "outputs": [
    {
     "name": "stdout",
     "output_type": "stream",
     "text": [
      "Collecting seaborn\n",
      "  Downloading seaborn-0.13.2-py3-none-any.whl.metadata (5.4 kB)\n",
      "Requirement already satisfied: numpy!=1.24.0,>=1.20 in h:\\code\\cursos\\python-pandas-1\\venv\\lib\\site-packages (from seaborn) (2.1.3)\n",
      "Requirement already satisfied: pandas>=1.2 in h:\\code\\cursos\\python-pandas-1\\venv\\lib\\site-packages (from seaborn) (2.2.3)\n",
      "Requirement already satisfied: matplotlib!=3.6.1,>=3.4 in h:\\code\\cursos\\python-pandas-1\\venv\\lib\\site-packages (from seaborn) (3.9.2)\n",
      "Requirement already satisfied: contourpy>=1.0.1 in h:\\code\\cursos\\python-pandas-1\\venv\\lib\\site-packages (from matplotlib!=3.6.1,>=3.4->seaborn) (1.3.1)\n",
      "Requirement already satisfied: cycler>=0.10 in h:\\code\\cursos\\python-pandas-1\\venv\\lib\\site-packages (from matplotlib!=3.6.1,>=3.4->seaborn) (0.12.1)\n",
      "Requirement already satisfied: fonttools>=4.22.0 in h:\\code\\cursos\\python-pandas-1\\venv\\lib\\site-packages (from matplotlib!=3.6.1,>=3.4->seaborn) (4.55.0)\n",
      "Requirement already satisfied: kiwisolver>=1.3.1 in h:\\code\\cursos\\python-pandas-1\\venv\\lib\\site-packages (from matplotlib!=3.6.1,>=3.4->seaborn) (1.4.7)\n",
      "Requirement already satisfied: packaging>=20.0 in h:\\code\\cursos\\python-pandas-1\\venv\\lib\\site-packages (from matplotlib!=3.6.1,>=3.4->seaborn) (24.2)\n",
      "Requirement already satisfied: pillow>=8 in h:\\code\\cursos\\python-pandas-1\\venv\\lib\\site-packages (from matplotlib!=3.6.1,>=3.4->seaborn) (11.0.0)\n",
      "Requirement already satisfied: pyparsing>=2.3.1 in h:\\code\\cursos\\python-pandas-1\\venv\\lib\\site-packages (from matplotlib!=3.6.1,>=3.4->seaborn) (3.2.0)\n",
      "Requirement already satisfied: python-dateutil>=2.7 in h:\\code\\cursos\\python-pandas-1\\venv\\lib\\site-packages (from matplotlib!=3.6.1,>=3.4->seaborn) (2.9.0.post0)\n",
      "Requirement already satisfied: pytz>=2020.1 in h:\\code\\cursos\\python-pandas-1\\venv\\lib\\site-packages (from pandas>=1.2->seaborn) (2024.2)\n",
      "Requirement already satisfied: tzdata>=2022.7 in h:\\code\\cursos\\python-pandas-1\\venv\\lib\\site-packages (from pandas>=1.2->seaborn) (2024.2)\n",
      "Requirement already satisfied: six>=1.5 in h:\\code\\cursos\\python-pandas-1\\venv\\lib\\site-packages (from python-dateutil>=2.7->matplotlib!=3.6.1,>=3.4->seaborn) (1.16.0)\n",
      "Downloading seaborn-0.13.2-py3-none-any.whl (294 kB)\n",
      "Installing collected packages: seaborn\n",
      "Successfully installed seaborn-0.13.2\n"
     ]
    },
    {
     "name": "stderr",
     "output_type": "stream",
     "text": [
      "\n",
      "[notice] A new release of pip is available: 24.2 -> 24.3.1\n",
      "[notice] To update, run: python.exe -m pip install --upgrade pip\n"
     ]
    }
   ],
   "source": [
    "!pip install seaborn"
   ]
  },
  {
   "cell_type": "code",
   "execution_count": 1,
   "id": "cd44b1a2-994c-4f37-a0d3-55db0f50bad7",
   "metadata": {},
   "outputs": [],
   "source": [
    "import pandas as pd"
   ]
  },
  {
   "cell_type": "code",
   "execution_count": 8,
   "id": "87de696a-8456-4707-8569-34b204f1ee9a",
   "metadata": {},
   "outputs": [],
   "source": [
    "import matplotlib.pyplot as plt"
   ]
  },
  {
   "cell_type": "code",
   "execution_count": 23,
   "id": "093298e8-e066-4851-bc9d-97e95dd462ff",
   "metadata": {},
   "outputs": [],
   "source": [
    "import seaborn as sns"
   ]
  },
  {
   "cell_type": "code",
   "execution_count": 18,
   "id": "c6c55e4f-0185-4b37-96b3-acbad30ffdea",
   "metadata": {},
   "outputs": [],
   "source": [
    "data = pd.read_csv('MOCK_DATA.csv')"
   ]
  },
  {
   "cell_type": "code",
   "execution_count": 36,
   "id": "d10abefd-11fe-43e6-9e65-f2b447d70c8d",
   "metadata": {},
   "outputs": [
    {
     "data": {
      "text/html": [
       "<div>\n",
       "<style scoped>\n",
       "    .dataframe tbody tr th:only-of-type {\n",
       "        vertical-align: middle;\n",
       "    }\n",
       "\n",
       "    .dataframe tbody tr th {\n",
       "        vertical-align: top;\n",
       "    }\n",
       "\n",
       "    .dataframe thead th {\n",
       "        text-align: right;\n",
       "    }\n",
       "</style>\n",
       "<table border=\"1\" class=\"dataframe\">\n",
       "  <thead>\n",
       "    <tr style=\"text-align: right;\">\n",
       "      <th></th>\n",
       "      <th>id</th>\n",
       "      <th>first_name</th>\n",
       "      <th>email</th>\n",
       "      <th>gender</th>\n",
       "      <th>ip_address</th>\n",
       "      <th>zip_code</th>\n",
       "      <th>age</th>\n",
       "      <th>height</th>\n",
       "    </tr>\n",
       "  </thead>\n",
       "  <tbody>\n",
       "    <tr>\n",
       "      <th>0</th>\n",
       "      <td>1</td>\n",
       "      <td>Lewiss</td>\n",
       "      <td>lklagge0@ucoz.com</td>\n",
       "      <td>Male</td>\n",
       "      <td>253.242.181.73</td>\n",
       "      <td>NaN</td>\n",
       "      <td>57</td>\n",
       "      <td>13.30</td>\n",
       "    </tr>\n",
       "    <tr>\n",
       "      <th>1</th>\n",
       "      <td>2</td>\n",
       "      <td>Ade</td>\n",
       "      <td>athaller1@parallels.com</td>\n",
       "      <td>Male</td>\n",
       "      <td>198.157.243.196</td>\n",
       "      <td>NaN</td>\n",
       "      <td>54</td>\n",
       "      <td>9.33</td>\n",
       "    </tr>\n",
       "    <tr>\n",
       "      <th>2</th>\n",
       "      <td>3</td>\n",
       "      <td>Shurlocke</td>\n",
       "      <td>skelby2@yelp.com</td>\n",
       "      <td>Male</td>\n",
       "      <td>163.221.202.247</td>\n",
       "      <td>NaN</td>\n",
       "      <td>58</td>\n",
       "      <td>38.17</td>\n",
       "    </tr>\n",
       "    <tr>\n",
       "      <th>3</th>\n",
       "      <td>4</td>\n",
       "      <td>Gerardo</td>\n",
       "      <td>gpassy3@behance.net</td>\n",
       "      <td>Male</td>\n",
       "      <td>82.153.93.24</td>\n",
       "      <td>NaN</td>\n",
       "      <td>97</td>\n",
       "      <td>42.34</td>\n",
       "    </tr>\n",
       "    <tr>\n",
       "      <th>4</th>\n",
       "      <td>5</td>\n",
       "      <td>Garry</td>\n",
       "      <td>gfrewer4@tripod.com</td>\n",
       "      <td>Male</td>\n",
       "      <td>91.202.19.23</td>\n",
       "      <td>NaN</td>\n",
       "      <td>70</td>\n",
       "      <td>43.79</td>\n",
       "    </tr>\n",
       "  </tbody>\n",
       "</table>\n",
       "</div>"
      ],
      "text/plain": [
       "   id first_name                    email gender       ip_address zip_code  \\\n",
       "0   1     Lewiss        lklagge0@ucoz.com   Male   253.242.181.73      NaN   \n",
       "1   2        Ade  athaller1@parallels.com   Male  198.157.243.196      NaN   \n",
       "2   3  Shurlocke         skelby2@yelp.com   Male  163.221.202.247      NaN   \n",
       "3   4    Gerardo      gpassy3@behance.net   Male     82.153.93.24      NaN   \n",
       "4   5      Garry      gfrewer4@tripod.com   Male     91.202.19.23      NaN   \n",
       "\n",
       "   age  height  \n",
       "0   57   13.30  \n",
       "1   54    9.33  \n",
       "2   58   38.17  \n",
       "3   97   42.34  \n",
       "4   70   43.79  "
      ]
     },
     "execution_count": 36,
     "metadata": {},
     "output_type": "execute_result"
    }
   ],
   "source": [
    "data.head()"
   ]
  },
  {
   "cell_type": "code",
   "execution_count": 24,
   "id": "59be8046-0e86-4f02-a7b5-2c52427473b4",
   "metadata": {},
   "outputs": [],
   "source": [
    "sns.set(style=\"whitegrid\")"
   ]
  },
  {
   "cell_type": "code",
   "execution_count": 26,
   "id": "e8e6a240-fb09-483d-847c-340b8d120a25",
   "metadata": {},
   "outputs": [
    {
     "data": {
      "text/plain": [
       "<Figure size 800x600 with 0 Axes>"
      ]
     },
     "execution_count": 26,
     "metadata": {},
     "output_type": "execute_result"
    },
    {
     "data": {
      "text/plain": [
       "<Figure size 800x600 with 0 Axes>"
      ]
     },
     "metadata": {},
     "output_type": "display_data"
    }
   ],
   "source": [
    "plt.figure(figsize=(8, 6))"
   ]
  },
  {
   "cell_type": "code",
   "execution_count": 43,
   "id": "4da606ba-756b-47e9-97f1-5e10ea721fad",
   "metadata": {},
   "outputs": [
    {
     "data": {
      "image/png": "[encoded data removed]",
      "text/plain": [
       "<Figure size 640x480 with 1 Axes>"
      ]
     },
     "metadata": {},
     "output_type": "display_data"
    }
   ],
   "source": [
    "sns.boxplot(x=\"gender\", y=\"age\", hue=\"gender\", data=data, palette=\"pastel\", dodge=False, legend=False)\n",
    "# Ajustar las etiquetas del eje X\n",
    "plt.xticks(rotation=45, ha='right')  # Rotación de 45° y alineación a la derecha\n",
    "\n",
    "# Títulos y etiquetas\n",
    "plt.title(\"Distribución de edades por género\", fontsize=14)\n",
    "plt.xlabel(\"Género\", fontsize=12)\n",
    "plt.ylabel(\"Edad\", fontsize=12)\n",
    "plt.show()"
   ]
  },
  {
   "cell_type": "code",
   "execution_count": null,
   "id": "5671a9d6-0f61-4e97-818d-8dfa4511bacb",
   "metadata": {},
   "outputs": [],
   "source": []
  }
 ],
 "metadata": {
  "kernelspec": {
   "display_name": "Python 3 (ipykernel)",
   "language": "python",
   "name": "python3"
  },
  "language_info": {
   "codemirror_mode": {
    "name": "ipython",
    "version": 3
   },
   "file_extension": ".py",
   "mimetype": "text/x-python",
   "name": "python",
   "nbconvert_exporter": "python",
   "pygments_lexer": "ipython3",
   "version": "3.12.7"
  }
 },
 "nbformat": 4,
 "nbformat_minor": 5
}
