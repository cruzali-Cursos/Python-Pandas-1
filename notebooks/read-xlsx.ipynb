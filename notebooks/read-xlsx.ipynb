{
 "cells": [
  {
   "cell_type": "code",
   "execution_count": 6,
   "id": "c25a226f-de11-4e86-9442-38e61853d23d",
   "metadata": {},
   "outputs": [],
   "source": [
    "import pandas as pd"
   ]
  },
  {
   "cell_type": "code",
   "execution_count": 9,
   "id": "012b3cb5-efad-4475-baed-04d9c78c132c",
   "metadata": {},
   "outputs": [
    {
     "name": "stdout",
     "output_type": "stream",
     "text": [
      "Requirement already satisfied: openpyxl in h:\\code\\cursos\\python-pandas-1\\venv\\lib\\site-packages (3.1.5)\n",
      "Requirement already satisfied: et-xmlfile in h:\\code\\cursos\\python-pandas-1\\venv\\lib\\site-packages (from openpyxl) (2.0.0)\n"
     ]
    },
    {
     "name": "stderr",
     "output_type": "stream",
     "text": [
      "\n",
      "[notice] A new release of pip is available: 24.2 -> 24.3.1\n",
      "[notice] To update, run: python.exe -m pip install --upgrade pip\n"
     ]
    }
   ],
   "source": [
    "!pip install openpyxl"
   ]
  },
  {
   "cell_type": "code",
   "execution_count": 10,
   "id": "1cb64555-fd84-46d6-82c8-ce1755c2eabc",
   "metadata": {},
   "outputs": [],
   "source": [
    "data = pd.read_excel('registros_participacion.xlsx', index_col=None, header=None)"
   ]
  },
  {
   "cell_type": "code",
   "execution_count": 11,
   "id": "1558442d-33b8-4c6e-8925-c31637684a74",
   "metadata": {},
   "outputs": [
    {
     "data": {
      "text/html": [
       "<div>\n",
       "<style scoped>\n",
       "    .dataframe tbody tr th:only-of-type {\n",
       "        vertical-align: middle;\n",
       "    }\n",
       "\n",
       "    .dataframe tbody tr th {\n",
       "        vertical-align: top;\n",
       "    }\n",
       "\n",
       "    .dataframe thead th {\n",
       "        text-align: right;\n",
       "    }\n",
       "</style>\n",
       "<table border=\"1\" class=\"dataframe\">\n",
       "  <thead>\n",
       "    <tr style=\"text-align: right;\">\n",
       "      <th></th>\n",
       "      <th>0</th>\n",
       "      <th>1</th>\n",
       "      <th>2</th>\n",
       "      <th>3</th>\n",
       "      <th>4</th>\n",
       "      <th>5</th>\n",
       "      <th>6</th>\n",
       "      <th>7</th>\n",
       "      <th>8</th>\n",
       "      <th>9</th>\n",
       "      <th>10</th>\n",
       "      <th>11</th>\n",
       "      <th>12</th>\n",
       "      <th>13</th>\n",
       "      <th>14</th>\n",
       "      <th>15</th>\n",
       "      <th>16</th>\n",
       "      <th>17</th>\n",
       "    </tr>\n",
       "  </thead>\n",
       "  <tbody>\n",
       "    <tr>\n",
       "      <th>0</th>\n",
       "      <td>Id Encuestado</td>\n",
       "      <td>Edad</td>\n",
       "      <td>Entidad Nacimiento</td>\n",
       "      <td>Email</td>\n",
       "      <td>Genero</td>\n",
       "      <td>Acepta Privacidad</td>\n",
       "      <td>Junta Auxiliar</td>\n",
       "      <td>Colonia</td>\n",
       "      <td>Comunidad Afromexicana</td>\n",
       "      <td>Pertenece Grupo Etnico</td>\n",
       "      <td>Grupo Etnico</td>\n",
       "      <td>Discapacidad</td>\n",
       "      <td>Ocupación</td>\n",
       "      <td>Grado de estudios</td>\n",
       "      <td>LGBTQ+</td>\n",
       "      <td>Fecha de Registro</td>\n",
       "      <td>IdEncuesta</td>\n",
       "      <td>Nombre Encuesta</td>\n",
       "    </tr>\n",
       "    <tr>\n",
       "      <th>1</th>\n",
       "      <td>1</td>\n",
       "      <td>33</td>\n",
       "      <td>Sin especificar</td>\n",
       "      <td>Sin especificar</td>\n",
       "      <td>masculino</td>\n",
       "      <td>Si</td>\n",
       "      <td>Sin especificar</td>\n",
       "      <td>Sin especificar</td>\n",
       "      <td>No</td>\n",
       "      <td>No</td>\n",
       "      <td>Sin especificar</td>\n",
       "      <td>Sin especificar</td>\n",
       "      <td>Sin especificar</td>\n",
       "      <td>Sin especificar</td>\n",
       "      <td>No</td>\n",
       "      <td>10/11/2024</td>\n",
       "      <td>1</td>\n",
       "      <td>Encuesta Nombre 1</td>\n",
       "    </tr>\n",
       "  </tbody>\n",
       "</table>\n",
       "</div>"
      ],
      "text/plain": [
       "              0     1                   2                3          4   \\\n",
       "0  Id Encuestado  Edad  Entidad Nacimiento            Email     Genero   \n",
       "1              1    33     Sin especificar  Sin especificar  masculino   \n",
       "\n",
       "                  5                6                7   \\\n",
       "0  Acepta Privacidad   Junta Auxiliar          Colonia   \n",
       "1                 Si  Sin especificar  Sin especificar   \n",
       "\n",
       "                       8                       9                10  \\\n",
       "0  Comunidad Afromexicana  Pertenece Grupo Etnico     Grupo Etnico   \n",
       "1                      No                      No  Sin especificar   \n",
       "\n",
       "                11               12                 13      14  \\\n",
       "0     Discapacidad        Ocupación  Grado de estudios  LGBTQ+   \n",
       "1  Sin especificar  Sin especificar    Sin especificar      No   \n",
       "\n",
       "                  15          16                 17  \n",
       "0  Fecha de Registro  IdEncuesta    Nombre Encuesta  \n",
       "1         10/11/2024           1  Encuesta Nombre 1  "
      ]
     },
     "execution_count": 11,
     "metadata": {},
     "output_type": "execute_result"
    }
   ],
   "source": [
    "data"
   ]
  },
  {
   "cell_type": "code",
   "execution_count": 12,
   "id": "da7fc6dc-9ccb-4236-a28b-d0d82df14538",
   "metadata": {},
   "outputs": [],
   "source": [
    "data.to_csv('data_tocsv.csv')"
   ]
  },
  {
   "cell_type": "code",
   "execution_count": 13,
   "id": "150fa82c-553b-47d6-90ef-a212eb3fd541",
   "metadata": {},
   "outputs": [
    {
     "name": "stdout",
     "output_type": "stream",
     "text": [
      "2.1-Series.ipynb\n",
      "2.2-dataframe.ipynb\n",
      "data_actualizado.csv\n",
      "data_tocsv.csv\n",
      "MOCK_DATA.csv\n",
      "notebook_1.ipynb\n",
      "registros_participacion.xlsx\n",
      "Untitled.ipynb\n"
     ]
    }
   ],
   "source": [
    "!ls"
   ]
  }
 ],
 "metadata": {
  "kernelspec": {
   "display_name": "Python 3 (ipykernel)",
   "language": "python",
   "name": "python3"
  },
  "language_info": {
   "codemirror_mode": {
    "name": "ipython",
    "version": 3
   },
   "file_extension": ".py",
   "mimetype": "text/x-python",
   "name": "python",
   "nbconvert_exporter": "python",
   "pygments_lexer": "ipython3",
   "version": "3.12.7"
  }
 },
 "nbformat": 4,
 "nbformat_minor": 5
}
